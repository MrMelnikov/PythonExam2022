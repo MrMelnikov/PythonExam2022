{
 "cells": [
  {
   "cell_type": "code",
   "execution_count": 2,
   "id": "feec6179",
   "metadata": {
    "scrolled": true
   },
   "outputs": [
    {
     "name": "stdout",
     "output_type": "stream",
     "text": [
      "test\n"
     ]
    }
   ],
   "source": [
    "print(\"test\")"
   ]
  },
  {
   "cell_type": "code",
   "execution_count": 3,
   "id": "93cbd439",
   "metadata": {},
   "outputs": [],
   "source": [
    "import pandas as pd"
   ]
  },
  {
   "cell_type": "code",
   "execution_count": 4,
   "id": "282b18f5",
   "metadata": {},
   "outputs": [
    {
     "data": {
      "text/plain": [
       "<module 'pandas' from 'C:\\\\Users\\\\DmMelnikov\\\\Anaconda3\\\\lib\\\\site-packages\\\\pandas\\\\__init__.py'>"
      ]
     },
     "execution_count": 4,
     "metadata": {},
     "output_type": "execute_result"
    }
   ],
   "source": [
    "pd"
   ]
  },
  {
   "cell_type": "code",
   "execution_count": 5,
   "id": "ad53bd10",
   "metadata": {},
   "outputs": [],
   "source": [
    "a = [45, 26, 44, 12]"
   ]
  },
  {
   "cell_type": "code",
   "execution_count": 8,
   "id": "aaaf319b",
   "metadata": {},
   "outputs": [],
   "source": [
    "s = pd.Series(a)"
   ]
  },
  {
   "cell_type": "code",
   "execution_count": 10,
   "id": "71e0d0bc",
   "metadata": {},
   "outputs": [
    {
     "data": {
      "text/plain": [
       "26"
      ]
     },
     "execution_count": 10,
     "metadata": {},
     "output_type": "execute_result"
    }
   ],
   "source": [
    "s[1]"
   ]
  },
  {
   "cell_type": "code",
   "execution_count": 11,
   "id": "af204187",
   "metadata": {},
   "outputs": [
    {
     "data": {
      "text/plain": [
       "0    10\n",
       "1    20\n",
       "2    30\n",
       "3    40\n",
       "4    50\n",
       "5    60\n",
       "6    70\n",
       "7    80\n",
       "8    90\n",
       "dtype: int64"
      ]
     },
     "execution_count": 11,
     "metadata": {},
     "output_type": "execute_result"
    }
   ],
   "source": [
    "pd.Series(range(10,100,10))"
   ]
  },
  {
   "cell_type": "code",
   "execution_count": 13,
   "id": "7db5a52b",
   "metadata": {},
   "outputs": [],
   "source": [
    "s = [\"hello\", \"wordld\"]\n",
    "r = pd.Series(s, [\"привет\", \"мир\"])"
   ]
  },
  {
   "cell_type": "code",
   "execution_count": 15,
   "id": "a99fe6b9",
   "metadata": {},
   "outputs": [
    {
     "data": {
      "text/plain": [
       "'wordld'"
      ]
     },
     "execution_count": 15,
     "metadata": {},
     "output_type": "execute_result"
    }
   ],
   "source": [
    "r[\"мир\"]"
   ]
  },
  {
   "cell_type": "code",
   "execution_count": 16,
   "id": "71ec68ca",
   "metadata": {},
   "outputs": [],
   "source": [
    "d = {\"привет\": \"poka\", \"leonela\": \"messi\", \"я\": \"русский\"}"
   ]
  },
  {
   "cell_type": "code",
   "execution_count": 18,
   "id": "f06cf3d7",
   "metadata": {},
   "outputs": [
    {
     "name": "stdout",
     "output_type": "stream",
     "text": [
      "привет        poka\n",
      "leonela      messi\n",
      "я          русский\n",
      "dtype: object\n"
     ]
    }
   ],
   "source": [
    "r = pd.Series(d)\n",
    "print(r)"
   ]
  },
  {
   "cell_type": "code",
   "execution_count": 19,
   "id": "057ad3d2",
   "metadata": {},
   "outputs": [
    {
     "data": {
      "text/plain": [
       "0    w\n",
       "1    o\n",
       "2    r\n",
       "3    d\n",
       "dtype: object"
      ]
     },
     "execution_count": 19,
     "metadata": {},
     "output_type": "execute_result"
    }
   ],
   "source": [
    "pd.Series(list(\"word\"))"
   ]
  },
  {
   "cell_type": "markdown",
   "id": "7b3525d2",
   "metadata": {},
   "source": [
    "#### Действия над Series"
   ]
  },
  {
   "cell_type": "code",
   "execution_count": 21,
   "id": "8d19cfa9",
   "metadata": {},
   "outputs": [
    {
     "data": {
      "text/plain": [
       "0    45\n",
       "1    26\n",
       "2    44\n",
       "3    12\n",
       "4    99\n",
       "5     1\n",
       "dtype: int64"
      ]
     },
     "execution_count": 21,
     "metadata": {},
     "output_type": "execute_result"
    }
   ],
   "source": [
    "a = [45, 26, 44, 12, 99, 1]\n",
    "data = pd.Series(a)\n",
    "data"
   ]
  },
  {
   "cell_type": "code",
   "execution_count": 24,
   "id": "41fd0a51",
   "metadata": {},
   "outputs": [
    {
     "data": {
      "text/plain": [
       "0     51\n",
       "1     32\n",
       "2     50\n",
       "3     18\n",
       "4    105\n",
       "5      7\n",
       "dtype: int64"
      ]
     },
     "execution_count": 24,
     "metadata": {},
     "output_type": "execute_result"
    }
   ],
   "source": [
    "data = data + 2\n",
    "data"
   ]
  },
  {
   "cell_type": "code",
   "execution_count": 25,
   "id": "9279521a",
   "metadata": {},
   "outputs": [
    {
     "data": {
      "text/plain": [
       "0    25\n",
       "1    16\n",
       "2    25\n",
       "3     9\n",
       "4    52\n",
       "5     3\n",
       "dtype: int64"
      ]
     },
     "execution_count": 25,
     "metadata": {},
     "output_type": "execute_result"
    }
   ],
   "source": [
    "data // 2\n"
   ]
  },
  {
   "cell_type": "code",
   "execution_count": 26,
   "id": "6fa35632",
   "metadata": {},
   "outputs": [
    {
     "data": {
      "text/plain": [
       "0     True\n",
       "1     True\n",
       "2     True\n",
       "3    False\n",
       "4     True\n",
       "5    False\n",
       "dtype: bool"
      ]
     },
     "execution_count": 26,
     "metadata": {},
     "output_type": "execute_result"
    }
   ],
   "source": [
    "data > 25"
   ]
  },
  {
   "cell_type": "code",
   "execution_count": 32,
   "id": "cd89a7ab",
   "metadata": {},
   "outputs": [
    {
     "name": "stdout",
     "output_type": "stream",
     "text": [
      "0     51\n",
      "1     32\n",
      "2     50\n",
      "3     18\n",
      "4    105\n",
      "5      7\n",
      "dtype: int64\n"
     ]
    },
    {
     "data": {
      "text/plain": [
       "263"
      ]
     },
     "execution_count": 32,
     "metadata": {},
     "output_type": "execute_result"
    }
   ],
   "source": [
    "print(data)\n",
    "max(data)\n",
    "min(data)\n",
    "sorted(data)\n",
    "sum(data)"
   ]
  },
  {
   "cell_type": "code",
   "execution_count": 34,
   "id": "2d441f34",
   "metadata": {},
   "outputs": [
    {
     "data": {
      "text/plain": [
       "0     hello\n",
       "1    wordld\n",
       "2        hi\n",
       "dtype: object"
      ]
     },
     "execution_count": 34,
     "metadata": {},
     "output_type": "execute_result"
    }
   ],
   "source": [
    "b = [\"hello\", \"wordld\", \"hi\"]\n",
    "s = pd.Series(b)\n",
    "s"
   ]
  },
  {
   "cell_type": "code",
   "execution_count": 35,
   "id": "f2c7983b",
   "metadata": {},
   "outputs": [
    {
     "data": {
      "text/plain": [
       "0     hello abc\n",
       "1    wordld abc\n",
       "2        hi abc\n",
       "dtype: object"
      ]
     },
     "execution_count": 35,
     "metadata": {},
     "output_type": "execute_result"
    }
   ],
   "source": [
    "s + \" abc\""
   ]
  },
  {
   "cell_type": "code",
   "execution_count": 37,
   "id": "7546db94",
   "metadata": {},
   "outputs": [
    {
     "data": {
      "text/plain": [
       "3"
      ]
     },
     "execution_count": 37,
     "metadata": {},
     "output_type": "execute_result"
    }
   ],
   "source": [
    "len(s)"
   ]
  },
  {
   "cell_type": "code",
   "execution_count": 50,
   "id": "18371bca",
   "metadata": {},
   "outputs": [
    {
     "data": {
      "text/plain": [
       "('b', 'j', 'k', 'r')"
      ]
     },
     "execution_count": 50,
     "metadata": {},
     "output_type": "execute_result"
    }
   ],
   "source": [
    "names = [\"bob\", \"jack\", \"kevin\", \"robin\"]\n",
    "letters = \"b\", \"j\", \"k\", \"r\"\n",
    "numbers = [10, 20, 30, 40, 50]\n",
    "letters"
   ]
  },
  {
   "cell_type": "code",
   "execution_count": 51,
   "id": "d21d587b",
   "metadata": {},
   "outputs": [
    {
     "data": {
      "text/plain": [
       "0    10\n",
       "1    20\n",
       "2    30\n",
       "3    40\n",
       "4    50\n",
       "dtype: int64"
      ]
     },
     "execution_count": 51,
     "metadata": {},
     "output_type": "execute_result"
    }
   ],
   "source": [
    "s = pd.Series(names)\n",
    "nums = pd.Series(numbers)\n",
    "s_letters = pd.Series(names, index=letters)\n",
    "nums"
   ]
  },
  {
   "cell_type": "code",
   "execution_count": 42,
   "id": "32e3bdbe",
   "metadata": {},
   "outputs": [
    {
     "data": {
      "text/plain": [
       "array(['bob', 'jack', 'kevin', 'robin'], dtype=object)"
      ]
     },
     "execution_count": 42,
     "metadata": {},
     "output_type": "execute_result"
    }
   ],
   "source": [
    "s.values"
   ]
  },
  {
   "cell_type": "code",
   "execution_count": 44,
   "id": "f4d17ec2",
   "metadata": {},
   "outputs": [
    {
     "data": {
      "text/plain": [
       "RangeIndex(start=0, stop=5, step=1)"
      ]
     },
     "execution_count": 44,
     "metadata": {},
     "output_type": "execute_result"
    }
   ],
   "source": [
    "nums.index"
   ]
  },
  {
   "cell_type": "code",
   "execution_count": 54,
   "id": "1a8a0417",
   "metadata": {},
   "outputs": [
    {
     "data": {
      "text/plain": [
       "array(['bob', 'jack', 'kevin', 'robin'], dtype=object)"
      ]
     },
     "execution_count": 54,
     "metadata": {},
     "output_type": "execute_result"
    }
   ],
   "source": [
    "s_letters.values"
   ]
  },
  {
   "cell_type": "code",
   "execution_count": 55,
   "id": "90ac4614",
   "metadata": {},
   "outputs": [
    {
     "data": {
      "text/plain": [
       "4"
      ]
     },
     "execution_count": 55,
     "metadata": {},
     "output_type": "execute_result"
    }
   ],
   "source": [
    "s_letters.size"
   ]
  },
  {
   "cell_type": "markdown",
   "id": "1adb8e66",
   "metadata": {},
   "source": [
    "#### Методы класса Series (похоже на def)"
   ]
  },
  {
   "cell_type": "code",
   "execution_count": 59,
   "id": "98471cc2",
   "metadata": {},
   "outputs": [],
   "source": [
    "names = [\"bob\", \"jack\", \"kevin\", \"robin\"]\n",
    "numbers = [10, -20, 30, 40, -50]\n",
    "s = pd.Series(names)\n",
    "nums = pd.Series(numbers)"
   ]
  },
  {
   "cell_type": "code",
   "execution_count": 60,
   "id": "e1cc5725",
   "metadata": {},
   "outputs": [
    {
     "data": {
      "text/plain": [
       "array(['bob', 'jack', 'kevin', 'robin'], dtype=object)"
      ]
     },
     "execution_count": 60,
     "metadata": {},
     "output_type": "execute_result"
    }
   ],
   "source": [
    "s.values"
   ]
  },
  {
   "cell_type": "code",
   "execution_count": 61,
   "id": "828a27c7",
   "metadata": {},
   "outputs": [
    {
     "data": {
      "text/plain": [
       "10"
      ]
     },
     "execution_count": 61,
     "metadata": {},
     "output_type": "execute_result"
    }
   ],
   "source": [
    "nums.sum()"
   ]
  },
  {
   "cell_type": "code",
   "execution_count": 62,
   "id": "7c3c3120",
   "metadata": {},
   "outputs": [
    {
     "data": {
      "text/plain": [
       "40"
      ]
     },
     "execution_count": 62,
     "metadata": {},
     "output_type": "execute_result"
    }
   ],
   "source": [
    "nums.max()"
   ]
  },
  {
   "cell_type": "code",
   "execution_count": 64,
   "id": "6368fb9f",
   "metadata": {},
   "outputs": [
    {
     "data": {
      "text/plain": [
       "12000000"
      ]
     },
     "execution_count": 64,
     "metadata": {},
     "output_type": "execute_result"
    }
   ],
   "source": [
    "nums.product()\n",
    "# умножение"
   ]
  },
  {
   "cell_type": "code",
   "execution_count": 65,
   "id": "303d0926",
   "metadata": {},
   "outputs": [
    {
     "data": {
      "text/plain": [
       "'bobjackkevinrobin'"
      ]
     },
     "execution_count": 65,
     "metadata": {},
     "output_type": "execute_result"
    }
   ],
   "source": [
    "s.sum()"
   ]
  },
  {
   "cell_type": "code",
   "execution_count": 67,
   "id": "6fa5ad99",
   "metadata": {},
   "outputs": [
    {
     "data": {
      "text/plain": [
       "0    False\n",
       "1     True\n",
       "2    False\n",
       "3    False\n",
       "4     True\n",
       "dtype: bool"
      ]
     },
     "execution_count": 67,
     "metadata": {},
     "output_type": "execute_result"
    }
   ],
   "source": [
    "nums.lt(2)\n",
    "# сравнить > 2"
   ]
  },
  {
   "cell_type": "code",
   "execution_count": 68,
   "id": "397e3d26",
   "metadata": {},
   "outputs": [
    {
     "data": {
      "text/plain": [
       "0    10\n",
       "1    20\n",
       "2    30\n",
       "3    40\n",
       "4    50\n",
       "dtype: int64"
      ]
     },
     "execution_count": 68,
     "metadata": {},
     "output_type": "execute_result"
    }
   ],
   "source": [
    "nums.abs()"
   ]
  },
  {
   "cell_type": "markdown",
   "id": "601ab7e2",
   "metadata": {},
   "source": [
    "#### Методы head(), tail(), take() класса Series"
   ]
  },
  {
   "cell_type": "code",
   "execution_count": 69,
   "id": "904bd34b",
   "metadata": {},
   "outputs": [],
   "source": [
    "from random import randint"
   ]
  },
  {
   "cell_type": "code",
   "execution_count": 70,
   "id": "43f54f65",
   "metadata": {},
   "outputs": [],
   "source": [
    "numbers = [randint(-50,50) for i in range(100)]"
   ]
  },
  {
   "cell_type": "code",
   "execution_count": 71,
   "id": "c21bffbb",
   "metadata": {},
   "outputs": [],
   "source": [
    "s = pd.Series(numbers)"
   ]
  },
  {
   "cell_type": "code",
   "execution_count": 72,
   "id": "69e530f2",
   "metadata": {},
   "outputs": [
    {
     "data": {
      "text/plain": [
       "0    -46\n",
       "1    -28\n",
       "2     19\n",
       "3     25\n",
       "4     46\n",
       "      ..\n",
       "95   -12\n",
       "96   -23\n",
       "97    17\n",
       "98    -3\n",
       "99   -10\n",
       "Length: 100, dtype: int64"
      ]
     },
     "execution_count": 72,
     "metadata": {},
     "output_type": "execute_result"
    }
   ],
   "source": [
    "s"
   ]
  },
  {
   "cell_type": "code",
   "execution_count": 77,
   "id": "45f81daf",
   "metadata": {},
   "outputs": [
    {
     "data": {
      "text/plain": [
       "0   -46\n",
       "1   -28\n",
       "2    19\n",
       "dtype: int64"
      ]
     },
     "execution_count": 77,
     "metadata": {},
     "output_type": "execute_result"
    }
   ],
   "source": [
    "s.head(n = 3)"
   ]
  },
  {
   "cell_type": "code",
   "execution_count": 78,
   "id": "c2187a33",
   "metadata": {},
   "outputs": [
    {
     "data": {
      "text/plain": [
       "97    17\n",
       "98    -3\n",
       "99   -10\n",
       "dtype: int64"
      ]
     },
     "execution_count": 78,
     "metadata": {},
     "output_type": "execute_result"
    }
   ],
   "source": [
    "s.tail(n = 3)"
   ]
  },
  {
   "cell_type": "code",
   "execution_count": 80,
   "id": "d7f6d1d9",
   "metadata": {},
   "outputs": [
    {
     "data": {
      "text/plain": [
       "7     34\n",
       "59    13\n",
       "99   -10\n",
       "dtype: int64"
      ]
     },
     "execution_count": 80,
     "metadata": {},
     "output_type": "execute_result"
    }
   ],
   "source": [
    "s.take([7,59,99])"
   ]
  },
  {
   "cell_type": "code",
   "execution_count": 81,
   "id": "b58b29dd",
   "metadata": {},
   "outputs": [
    {
     "data": {
      "text/plain": [
       "40    -9\n",
       "41    25\n",
       "42   -15\n",
       "43    13\n",
       "44    31\n",
       "45    27\n",
       "46    41\n",
       "47    28\n",
       "48   -31\n",
       "49    34\n",
       "50    44\n",
       "dtype: int64"
      ]
     },
     "execution_count": 81,
     "metadata": {},
     "output_type": "execute_result"
    }
   ],
   "source": [
    "s.take(range(40, 51))"
   ]
  },
  {
   "cell_type": "code",
   "execution_count": 83,
   "id": "c6897377",
   "metadata": {},
   "outputs": [
    {
     "data": {
      "text/plain": [
       "40    -9\n",
       "43    13\n",
       "46    41\n",
       "49    34\n",
       "dtype: int64"
      ]
     },
     "execution_count": 83,
     "metadata": {},
     "output_type": "execute_result"
    }
   ],
   "source": [
    "s.take(range(40, 51, 3))\n",
    "# 3 отвечает за шаг, то есть через каждые 3 элеента"
   ]
  },
  {
   "cell_type": "markdown",
   "id": "3421c4c8",
   "metadata": {},
   "source": [
    "#### Срез объекта Series"
   ]
  },
  {
   "cell_type": "code",
   "execution_count": 88,
   "id": "621afdf2",
   "metadata": {},
   "outputs": [
    {
     "data": {
      "text/plain": [
       "40    -9\n",
       "41    25\n",
       "42   -15\n",
       "43    13\n",
       "44    31\n",
       "45    27\n",
       "46    41\n",
       "47    28\n",
       "48   -31\n",
       "49    34\n",
       "50    44\n",
       "dtype: int64"
      ]
     },
     "execution_count": 88,
     "metadata": {},
     "output_type": "execute_result"
    }
   ],
   "source": [
    "s[40:51]"
   ]
  },
  {
   "cell_type": "code",
   "execution_count": 89,
   "id": "b888aea8",
   "metadata": {},
   "outputs": [
    {
     "data": {
      "text/plain": [
       "40    -9\n",
       "43    13\n",
       "46    41\n",
       "49    34\n",
       "dtype: int64"
      ]
     },
     "execution_count": 89,
     "metadata": {},
     "output_type": "execute_result"
    }
   ],
   "source": [
    "s[40:51:3]"
   ]
  },
  {
   "cell_type": "code",
   "execution_count": 90,
   "id": "f5250736",
   "metadata": {},
   "outputs": [
    {
     "data": {
      "text/plain": [
       "51   -16\n",
       "50    44\n",
       "49    34\n",
       "48   -31\n",
       "47    28\n",
       "46    41\n",
       "45    27\n",
       "44    31\n",
       "43    13\n",
       "42   -15\n",
       "41    25\n",
       "dtype: int64"
      ]
     },
     "execution_count": 90,
     "metadata": {},
     "output_type": "execute_result"
    }
   ],
   "source": [
    "s[51:40:-1]"
   ]
  },
  {
   "cell_type": "code",
   "execution_count": 94,
   "id": "60ae10f7",
   "metadata": {},
   "outputs": [],
   "source": [
    "from random import shuffle\n",
    "from string import ascii_lowercase"
   ]
  },
  {
   "cell_type": "code",
   "execution_count": 101,
   "id": "46166f7b",
   "metadata": {},
   "outputs": [],
   "source": [
    "numbers = [randint(-50,50) for i in range(26)]"
   ]
  },
  {
   "cell_type": "code",
   "execution_count": 102,
   "id": "43e715bd",
   "metadata": {},
   "outputs": [
    {
     "data": {
      "text/plain": [
       "a    22\n",
       "b   -43\n",
       "c   -31\n",
       "d     4\n",
       "e    38\n",
       "f   -13\n",
       "g   -45\n",
       "h     4\n",
       "i   -28\n",
       "j    49\n",
       "k   -23\n",
       "l    11\n",
       "m   -15\n",
       "n    17\n",
       "o   -18\n",
       "p    18\n",
       "q    13\n",
       "r   -48\n",
       "s   -42\n",
       "t    11\n",
       "u    21\n",
       "v     6\n",
       "w    31\n",
       "x   -17\n",
       "y   -15\n",
       "z    -2\n",
       "dtype: int64"
      ]
     },
     "execution_count": 102,
     "metadata": {},
     "output_type": "execute_result"
    }
   ],
   "source": [
    "s = pd.Series(numbers)\n",
    "letters = pd.Series(numbers, ind)\n",
    "ind = list(ascii_lowercase)\n",
    "letters"
   ]
  },
  {
   "cell_type": "code",
   "execution_count": 104,
   "id": "f0fa7e36",
   "metadata": {},
   "outputs": [
    {
     "data": {
      "text/plain": [
       "a    22\n",
       "b   -43\n",
       "c   -31\n",
       "d     4\n",
       "e    38\n",
       "f   -13\n",
       "dtype: int64"
      ]
     },
     "execution_count": 104,
     "metadata": {},
     "output_type": "execute_result"
    }
   ],
   "source": [
    "letters[\"a\":\"f\"]"
   ]
  },
  {
   "cell_type": "code",
   "execution_count": 105,
   "id": "550d5640",
   "metadata": {},
   "outputs": [
    {
     "data": {
      "text/plain": [
       "f   -13\n",
       "e    38\n",
       "d     4\n",
       "c   -31\n",
       "b   -43\n",
       "a    22\n",
       "dtype: int64"
      ]
     },
     "execution_count": 105,
     "metadata": {},
     "output_type": "execute_result"
    }
   ],
   "source": [
    "letters[\"f\":\"a\":-1]"
   ]
  },
  {
   "cell_type": "code",
   "execution_count": 106,
   "id": "a041043f",
   "metadata": {},
   "outputs": [],
   "source": [
    "shuffle(ind)\n",
    "letters = pd.Series(numbers, ind)"
   ]
  },
  {
   "cell_type": "code",
   "execution_count": 107,
   "id": "195ce49e",
   "metadata": {},
   "outputs": [
    {
     "data": {
      "text/plain": [
       "v    22\n",
       "m   -43\n",
       "w   -31\n",
       "s     4\n",
       "l    38\n",
       "f   -13\n",
       "g   -45\n",
       "u     4\n",
       "d   -28\n",
       "x    49\n",
       "r   -23\n",
       "h    11\n",
       "c   -15\n",
       "a    17\n",
       "t   -18\n",
       "p    18\n",
       "b    13\n",
       "e   -48\n",
       "i   -42\n",
       "q    11\n",
       "k    21\n",
       "j     6\n",
       "o    31\n",
       "n   -17\n",
       "z   -15\n",
       "y    -2\n",
       "dtype: int64"
      ]
     },
     "execution_count": 107,
     "metadata": {},
     "output_type": "execute_result"
    }
   ],
   "source": [
    "letters\n",
    "# всё в рандомном порядке"
   ]
  },
  {
   "cell_type": "code",
   "execution_count": 109,
   "id": "e88ae3b8",
   "metadata": {},
   "outputs": [
    {
     "data": {
      "text/plain": [
       "c   -15\n",
       "a    17\n",
       "t   -18\n",
       "p    18\n",
       "b    13\n",
       "dtype: int64"
      ]
     },
     "execution_count": 109,
     "metadata": {},
     "output_type": "execute_result"
    }
   ],
   "source": [
    "letters[\"c\":\"b\"]"
   ]
  },
  {
   "cell_type": "code",
   "execution_count": null,
   "id": "2240adf1",
   "metadata": {},
   "outputs": [],
   "source": []
  },
  {
   "cell_type": "markdown",
   "id": "fd6028ee",
   "metadata": {},
   "source": [
    "### DataFrame"
   ]
  },
  {
   "cell_type": "code",
   "execution_count": 111,
   "id": "74d47f11",
   "metadata": {},
   "outputs": [
    {
     "data": {
      "text/html": [
       "<div>\n",
       "<style scoped>\n",
       "    .dataframe tbody tr th:only-of-type {\n",
       "        vertical-align: middle;\n",
       "    }\n",
       "\n",
       "    .dataframe tbody tr th {\n",
       "        vertical-align: top;\n",
       "    }\n",
       "\n",
       "    .dataframe thead th {\n",
       "        text-align: right;\n",
       "    }\n",
       "</style>\n",
       "<table border=\"1\" class=\"dataframe\">\n",
       "  <thead>\n",
       "    <tr style=\"text-align: right;\">\n",
       "      <th></th>\n",
       "      <th>0</th>\n",
       "      <th>1</th>\n",
       "      <th>2</th>\n",
       "    </tr>\n",
       "  </thead>\n",
       "  <tbody>\n",
       "    <tr>\n",
       "      <th>0</th>\n",
       "      <td>4</td>\n",
       "      <td>5</td>\n",
       "      <td>6</td>\n",
       "    </tr>\n",
       "    <tr>\n",
       "      <th>1</th>\n",
       "      <td>8</td>\n",
       "      <td>1</td>\n",
       "      <td>15</td>\n",
       "    </tr>\n",
       "    <tr>\n",
       "      <th>2</th>\n",
       "      <td>90</td>\n",
       "      <td>13</td>\n",
       "      <td>34</td>\n",
       "    </tr>\n",
       "  </tbody>\n",
       "</table>\n",
       "</div>"
      ],
      "text/plain": [
       "    0   1   2\n",
       "0   4   5   6\n",
       "1   8   1  15\n",
       "2  90  13  34"
      ]
     },
     "execution_count": 111,
     "metadata": {},
     "output_type": "execute_result"
    }
   ],
   "source": [
    "data = [[4, 5, 6], [ 8, 1, 15], [90, 13, 34]]\n",
    "df = pd.DataFrame(data)\n",
    "df"
   ]
  },
  {
   "cell_type": "code",
   "execution_count": 113,
   "id": "dcedf04c",
   "metadata": {},
   "outputs": [
    {
     "data": {
      "text/html": [
       "<div>\n",
       "<style scoped>\n",
       "    .dataframe tbody tr th:only-of-type {\n",
       "        vertical-align: middle;\n",
       "    }\n",
       "\n",
       "    .dataframe tbody tr th {\n",
       "        vertical-align: top;\n",
       "    }\n",
       "\n",
       "    .dataframe thead th {\n",
       "        text-align: right;\n",
       "    }\n",
       "</style>\n",
       "<table border=\"1\" class=\"dataframe\">\n",
       "  <thead>\n",
       "    <tr style=\"text-align: right;\">\n",
       "      <th></th>\n",
       "      <th>x</th>\n",
       "      <th>y</th>\n",
       "      <th>z</th>\n",
       "    </tr>\n",
       "  </thead>\n",
       "  <tbody>\n",
       "    <tr>\n",
       "      <th>a</th>\n",
       "      <td>4</td>\n",
       "      <td>5</td>\n",
       "      <td>6</td>\n",
       "    </tr>\n",
       "    <tr>\n",
       "      <th>b</th>\n",
       "      <td>8</td>\n",
       "      <td>1</td>\n",
       "      <td>15</td>\n",
       "    </tr>\n",
       "    <tr>\n",
       "      <th>c</th>\n",
       "      <td>90</td>\n",
       "      <td>13</td>\n",
       "      <td>34</td>\n",
       "    </tr>\n",
       "  </tbody>\n",
       "</table>\n",
       "</div>"
      ],
      "text/plain": [
       "    x   y   z\n",
       "a   4   5   6\n",
       "b   8   1  15\n",
       "c  90  13  34"
      ]
     },
     "execution_count": 113,
     "metadata": {},
     "output_type": "execute_result"
    }
   ],
   "source": [
    "df = pd.DataFrame(data, index= [\"a\", \"b\", \"c\"], columns=[\"x\", \"y\", \"z\"])\n",
    "df"
   ]
  },
  {
   "cell_type": "code",
   "execution_count": 127,
   "id": "6ba902b3",
   "metadata": {},
   "outputs": [
    {
     "name": "stdout",
     "output_type": "stream",
     "text": [
      " x  y  z\n",
      " 4  5  6\n",
      " 8  1 15\n",
      "90 13 34\n"
     ]
    }
   ],
   "source": [
    "df.to_string(index=False)\n",
    "print(df.to_string(index=False))"
   ]
  },
  {
   "cell_type": "code",
   "execution_count": null,
   "id": "54377256",
   "metadata": {},
   "outputs": [],
   "source": []
  },
  {
   "cell_type": "code",
   "execution_count": null,
   "id": "8fabb1ca",
   "metadata": {},
   "outputs": [],
   "source": []
  }
 ],
 "metadata": {
  "kernelspec": {
   "display_name": "Python 3",
   "language": "python",
   "name": "python3"
  },
  "language_info": {
   "codemirror_mode": {
    "name": "ipython",
    "version": 3
   },
   "file_extension": ".py",
   "mimetype": "text/x-python",
   "name": "python",
   "nbconvert_exporter": "python",
   "pygments_lexer": "ipython3",
   "version": "3.8.8"
  }
 },
 "nbformat": 4,
 "nbformat_minor": 5
}
